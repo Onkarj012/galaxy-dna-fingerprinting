{
 "cells": [
  {
   "cell_type": "code",
   "execution_count": 1,
   "id": "4b932bf4",
   "metadata": {},
   "outputs": [],
   "source": [
    "# -----------------------------\n",
    "# 1️⃣ Imports\n",
    "# -----------------------------\n",
    "import os\n",
    "import pandas as pd\n",
    "import requests\n",
    "from PIL import Image\n",
    "from io import BytesIO\n",
    "from tqdm import tqdm\n"
   ]
  },
  {
   "cell_type": "code",
   "execution_count": 2,
   "id": "de7c70a9",
   "metadata": {},
   "outputs": [],
   "source": [
    "# -----------------------------\n",
    "# 2️⃣ Paths and Config\n",
    "# -----------------------------\n",
    "CLEANED_CSV = \"merged_gz2_sdss.csv\"   # your cleaned dataset CSV\n",
    "IMG_DIR = \"datafinal2/images\"               # folder to save images\n",
    "MAPPING_CSV = \"datafinal2/image_mapping_new.csv\"\n",
    "\n",
    "os.makedirs(IMG_DIR, exist_ok=True)\n",
    "\n",
    "# SDSS cutout parameters\n",
    "IMG_SIZE = 128   # pixels\n",
    "SCALE = 0.2      # arcsec/pixel\n",
    "\n",
    "# Balanced target images per class\n",
    "TARGET_PER_CLASS = 2000   # set based on smallest class you want to include\n"
   ]
  },
  {
   "cell_type": "code",
   "execution_count": 3,
   "id": "c3e32203",
   "metadata": {},
   "outputs": [
    {
     "name": "stdout",
     "output_type": "stream",
     "text": [
      "Dataset loaded: (48664, 248)\n"
     ]
    },
    {
     "data": {
      "text/html": [
       "<div>\n",
       "<style scoped>\n",
       "    .dataframe tbody tr th:only-of-type {\n",
       "        vertical-align: middle;\n",
       "    }\n",
       "\n",
       "    .dataframe tbody tr th {\n",
       "        vertical-align: top;\n",
       "    }\n",
       "\n",
       "    .dataframe thead th {\n",
       "        text-align: right;\n",
       "    }\n",
       "</style>\n",
       "<table border=\"1\" class=\"dataframe\">\n",
       "  <thead>\n",
       "    <tr style=\"text-align: right;\">\n",
       "      <th></th>\n",
       "      <th>dr7objid</th>\n",
       "      <th>ra</th>\n",
       "      <th>dec</th>\n",
       "      <th>rastring</th>\n",
       "      <th>decstring</th>\n",
       "      <th>sample</th>\n",
       "      <th>gz2_class</th>\n",
       "      <th>total_classifications</th>\n",
       "      <th>total_votes</th>\n",
       "      <th>t01_smooth_or_features_a01_smooth_count</th>\n",
       "      <th>...</th>\n",
       "      <th>z</th>\n",
       "      <th>petroR50_r</th>\n",
       "      <th>petroR90_r</th>\n",
       "      <th>fracDeV_r</th>\n",
       "      <th>concentration_index</th>\n",
       "      <th>u_g_color</th>\n",
       "      <th>g_r_color</th>\n",
       "      <th>r_i_color</th>\n",
       "      <th>i_z_color</th>\n",
       "      <th>redshift</th>\n",
       "    </tr>\n",
       "  </thead>\n",
       "  <tbody>\n",
       "    <tr>\n",
       "      <th>0</th>\n",
       "      <td>5.880090e+17</td>\n",
       "      <td>135.084396</td>\n",
       "      <td>52.494240</td>\n",
       "      <td>00:20.3</td>\n",
       "      <td>+52:29:39.3</td>\n",
       "      <td>original</td>\n",
       "      <td>Sb+t</td>\n",
       "      <td>42</td>\n",
       "      <td>332</td>\n",
       "      <td>1</td>\n",
       "      <td>...</td>\n",
       "      <td>11.91701</td>\n",
       "      <td>14.104130</td>\n",
       "      <td>36.87098</td>\n",
       "      <td>0.958810</td>\n",
       "      <td>2.614197</td>\n",
       "      <td>1.871747</td>\n",
       "      <td>0.891748</td>\n",
       "      <td>0.461641</td>\n",
       "      <td>0.281975</td>\n",
       "      <td>0.030118</td>\n",
       "    </tr>\n",
       "    <tr>\n",
       "      <th>1</th>\n",
       "      <td>5.877300e+17</td>\n",
       "      <td>246.921387</td>\n",
       "      <td>40.926968</td>\n",
       "      <td>27:41.1</td>\n",
       "      <td>+40:55:37.1</td>\n",
       "      <td>extra</td>\n",
       "      <td>Ei</td>\n",
       "      <td>48</td>\n",
       "      <td>154</td>\n",
       "      <td>41</td>\n",
       "      <td>...</td>\n",
       "      <td>12.07170</td>\n",
       "      <td>11.195780</td>\n",
       "      <td>35.93066</td>\n",
       "      <td>0.864857</td>\n",
       "      <td>3.209305</td>\n",
       "      <td>2.025663</td>\n",
       "      <td>0.820040</td>\n",
       "      <td>0.435435</td>\n",
       "      <td>0.398816</td>\n",
       "      <td>0.031728</td>\n",
       "    </tr>\n",
       "    <tr>\n",
       "      <th>2</th>\n",
       "      <td>5.877320e+17</td>\n",
       "      <td>183.062058</td>\n",
       "      <td>56.177532</td>\n",
       "      <td>12:14.9</td>\n",
       "      <td>+56:10:39.1</td>\n",
       "      <td>original</td>\n",
       "      <td>Sb?t</td>\n",
       "      <td>43</td>\n",
       "      <td>275</td>\n",
       "      <td>8</td>\n",
       "      <td>...</td>\n",
       "      <td>12.04240</td>\n",
       "      <td>9.284981</td>\n",
       "      <td>28.55589</td>\n",
       "      <td>1.000000</td>\n",
       "      <td>3.075492</td>\n",
       "      <td>1.964868</td>\n",
       "      <td>0.975801</td>\n",
       "      <td>0.456394</td>\n",
       "      <td>0.309238</td>\n",
       "      <td>0.031083</td>\n",
       "    </tr>\n",
       "    <tr>\n",
       "      <th>3</th>\n",
       "      <td>5.877290e+17</td>\n",
       "      <td>119.617126</td>\n",
       "      <td>37.786617</td>\n",
       "      <td>58:28.1</td>\n",
       "      <td>+37:47:11.8</td>\n",
       "      <td>original</td>\n",
       "      <td>Ei</td>\n",
       "      <td>42</td>\n",
       "      <td>139</td>\n",
       "      <td>39</td>\n",
       "      <td>...</td>\n",
       "      <td>12.21250</td>\n",
       "      <td>10.266440</td>\n",
       "      <td>32.90302</td>\n",
       "      <td>1.000000</td>\n",
       "      <td>3.204910</td>\n",
       "      <td>1.987321</td>\n",
       "      <td>0.892363</td>\n",
       "      <td>0.466510</td>\n",
       "      <td>0.306604</td>\n",
       "      <td>0.040825</td>\n",
       "    </tr>\n",
       "    <tr>\n",
       "      <th>4</th>\n",
       "      <td>5.877260e+17</td>\n",
       "      <td>209.473053</td>\n",
       "      <td>64.910980</td>\n",
       "      <td>57:53.5</td>\n",
       "      <td>+64:54:39.5</td>\n",
       "      <td>original</td>\n",
       "      <td>Er</td>\n",
       "      <td>35</td>\n",
       "      <td>102</td>\n",
       "      <td>26</td>\n",
       "      <td>...</td>\n",
       "      <td>12.06690</td>\n",
       "      <td>12.154870</td>\n",
       "      <td>38.81894</td>\n",
       "      <td>1.000000</td>\n",
       "      <td>3.193695</td>\n",
       "      <td>1.940805</td>\n",
       "      <td>0.837738</td>\n",
       "      <td>0.391821</td>\n",
       "      <td>0.320923</td>\n",
       "      <td>0.032005</td>\n",
       "    </tr>\n",
       "  </tbody>\n",
       "</table>\n",
       "<p>5 rows × 248 columns</p>\n",
       "</div>"
      ],
      "text/plain": [
       "       dr7objid          ra        dec rastring    decstring    sample  \\\n",
       "0  5.880090e+17  135.084396  52.494240  00:20.3  +52:29:39.3  original   \n",
       "1  5.877300e+17  246.921387  40.926968  27:41.1  +40:55:37.1     extra   \n",
       "2  5.877320e+17  183.062058  56.177532  12:14.9  +56:10:39.1  original   \n",
       "3  5.877290e+17  119.617126  37.786617  58:28.1  +37:47:11.8  original   \n",
       "4  5.877260e+17  209.473053  64.910980  57:53.5  +64:54:39.5  original   \n",
       "\n",
       "  gz2_class  total_classifications  total_votes  \\\n",
       "0      Sb+t                     42          332   \n",
       "1        Ei                     48          154   \n",
       "2      Sb?t                     43          275   \n",
       "3        Ei                     42          139   \n",
       "4        Er                     35          102   \n",
       "\n",
       "   t01_smooth_or_features_a01_smooth_count  ...         z  petroR50_r  \\\n",
       "0                                        1  ...  11.91701   14.104130   \n",
       "1                                       41  ...  12.07170   11.195780   \n",
       "2                                        8  ...  12.04240    9.284981   \n",
       "3                                       39  ...  12.21250   10.266440   \n",
       "4                                       26  ...  12.06690   12.154870   \n",
       "\n",
       "   petroR90_r  fracDeV_r  concentration_index  u_g_color  g_r_color  \\\n",
       "0    36.87098   0.958810             2.614197   1.871747   0.891748   \n",
       "1    35.93066   0.864857             3.209305   2.025663   0.820040   \n",
       "2    28.55589   1.000000             3.075492   1.964868   0.975801   \n",
       "3    32.90302   1.000000             3.204910   1.987321   0.892363   \n",
       "4    38.81894   1.000000             3.193695   1.940805   0.837738   \n",
       "\n",
       "   r_i_color  i_z_color  redshift  \n",
       "0   0.461641   0.281975  0.030118  \n",
       "1   0.435435   0.398816  0.031728  \n",
       "2   0.456394   0.309238  0.031083  \n",
       "3   0.466510   0.306604  0.040825  \n",
       "4   0.391821   0.320923  0.032005  \n",
       "\n",
       "[5 rows x 248 columns]"
      ]
     },
     "execution_count": 3,
     "metadata": {},
     "output_type": "execute_result"
    }
   ],
   "source": [
    "# -----------------------------\n",
    "# 3️⃣ Load cleaned dataset\n",
    "# -----------------------------\n",
    "df = pd.read_csv(CLEANED_CSV)\n",
    "print(\"Dataset loaded:\", df.shape)\n",
    "df.head()"
   ]
  },
  {
   "cell_type": "code",
   "execution_count": null,
   "id": "8699cf43",
   "metadata": {},
   "outputs": [
    {
     "name": "stdout",
     "output_type": "stream",
     "text": [
      "Label distribution:\n",
      " extended_label\n",
      "2    42582\n",
      "3     6082\n",
      "Name: count, dtype: int64\n"
     ]
    }
   ],
   "source": [
    "# -----------------------------\n",
    "# 4️⃣ Assign Extended Labels\n",
    "# -----------------------------\n",
    "def assign_extended_label(row):\n",
    "    fractions = {\n",
    "        0: row['t01_smooth_or_features_a01_smooth_fraction'],   # Smooth\n",
    "        1: row['t02_edgeon_a04_yes_fraction'] if 't02_edgeon_a04_yes_fraction' in row else 0,  # Edge-on\n",
    "        # 2: row['t04_spiral_a08_spiral_fraction'] if 't04_spiral_a08_spiral_fraction' in row else 0,  # Spiral\n",
    "        # 3: row['t03_bar_a06_bar_fraction'] if 't03_bar_a06_bar_fraction' in row else 0,  # Barred Spiral\n",
    "    }\n",
    "    return max(fractions, key=fractions.get)\n",
    "\n",
    "df['extended_label'] = df.apply(assign_extended_label, axis=1)\n",
    "print(\"Label distribution:\\n\", df['extended_label'].value_counts())\n"
   ]
  },
  {
   "cell_type": "code",
   "execution_count": 5,
   "id": "568b3c45",
   "metadata": {},
   "outputs": [
    {
     "name": "stdout",
     "output_type": "stream",
     "text": [
      "Balanced label distribution:\n",
      " extended_label\n",
      "2    2000\n",
      "3    2000\n",
      "Name: count, dtype: int64\n"
     ]
    }
   ],
   "source": [
    "# -----------------------------\n",
    "# 5️⃣ Create balanced dataset\n",
    "# -----------------------------\n",
    "balanced_df = pd.DataFrame()\n",
    "\n",
    "for label in df['extended_label'].unique():\n",
    "    class_rows = df[df['extended_label'] == label]\n",
    "    if len(class_rows) >= TARGET_PER_CLASS:\n",
    "        sampled_rows = class_rows.sample(n=TARGET_PER_CLASS, random_state=42)\n",
    "    else:\n",
    "        sampled_rows = class_rows  # include all if fewer than target\n",
    "    balanced_df = pd.concat([balanced_df, sampled_rows])\n",
    "\n",
    "# Shuffle dataset\n",
    "balanced_df = balanced_df.sample(frac=1, random_state=42).reset_index(drop=True)\n",
    "\n",
    "print(\"Balanced label distribution:\\n\", balanced_df['extended_label'].value_counts())\n"
   ]
  },
  {
   "cell_type": "code",
   "execution_count": 6,
   "id": "337886d7",
   "metadata": {},
   "outputs": [],
   "source": [
    "# -----------------------------\n",
    "# 6️⃣ Function to fetch SDSS image\n",
    "# -----------------------------\n",
    "def fetch_sdss_image(ra, dec, filename, scale=SCALE, size=IMG_SIZE):\n",
    "    url = f\"http://skyserver.sdss.org/dr16/SkyServerWS/ImgCutout/getjpeg?ra={ra}&dec={dec}&scale={scale}&width={size}&height={size}\"\n",
    "    try:\n",
    "        response = requests.get(url, timeout=10)\n",
    "        img = Image.open(BytesIO(response.content)).convert(\"RGB\")\n",
    "        img.save(filename)\n",
    "        return True\n",
    "    except Exception as e:\n",
    "        print(f\"Failed to fetch {filename}: {e}\")\n",
    "        return False\n"
   ]
  },
  {
   "cell_type": "code",
   "execution_count": 21,
   "id": "a140167f",
   "metadata": {},
   "outputs": [
    {
     "name": "stderr",
     "output_type": "stream",
     "text": [
      "  0%|          | 0/4000 [00:00<?, ?it/s]"
     ]
    },
    {
     "name": "stderr",
     "output_type": "stream",
     "text": [
      " 86%|████████▌ | 3429/4000 [1:27:23<39:20,  4.13s/it]   "
     ]
    },
    {
     "name": "stdout",
     "output_type": "stream",
     "text": [
      "Failed to fetch datafinal/images\\3428.jpg: HTTPSConnectionPool(host='skyserver.sdss.org', port=443): Read timed out. (read timeout=10)\n"
     ]
    },
    {
     "name": "stderr",
     "output_type": "stream",
     "text": [
      "100%|██████████| 4000/4000 [1:40:13<00:00,  1.50s/it]\n"
     ]
    },
    {
     "name": "stdout",
     "output_type": "stream",
     "text": [
      "Balanced mapping CSV saved: datafinal/image_mapping_new.csv\n"
     ]
    }
   ],
   "source": [
    "# -----------------------------\n",
    "# 7️⃣ Download balanced images\n",
    "# -----------------------------\n",
    "mapping = []\n",
    "\n",
    "for idx, row in tqdm(balanced_df.iterrows(), total=len(balanced_df)):\n",
    "    ra, dec = row['ra'], row['dec']\n",
    "    filename = os.path.join(IMG_DIR, f\"{idx}.jpg\")\n",
    "    \n",
    "    if not os.path.exists(filename):\n",
    "        success = fetch_sdss_image(ra, dec, filename)\n",
    "        if not success:\n",
    "            continue\n",
    "    \n",
    "    # store mapping info\n",
    "    mapping.append({\n",
    "        \"idx\": idx,\n",
    "        \"image_filename\": filename,\n",
    "        \"ra\": ra,\n",
    "        \"dec\": dec,\n",
    "        \"extended_label\": row['extended_label'],\n",
    "        **{col: row[col] for col in df.columns if 't0' in col}  # optional morphology columns\n",
    "    })\n",
    "\n",
    "# Save mapping CSV\n",
    "mapping_df = pd.DataFrame(mapping) \n",
    "mapping_df.to_csv(MAPPING_CSV, index=False)\n",
    "print(\"Balanced mapping CSV saved:\", MAPPING_CSV)"
   ]
  },
  {
   "cell_type": "code",
   "execution_count": null,
   "id": "f9307792",
   "metadata": {},
   "outputs": [],
   "source": [
    "# -----------------------------\n",
    "# 4️⃣ Assign Extended Labels\n",
    "# -----------------------------\n",
    "def assign_extended_label(row):\n",
    "    fractions = {\n",
    "        # 0: row['t01_smooth_or_features_a01_smooth_fraction'],   # Smooth\n",
    "        # 1: row['t02_edgeon_a04_yes_fraction'] if 't02_edgeon_a04_yes_fraction' in row else 0,  # Edge-on\n",
    "        2: row['t04_spiral_a08_spiral_fraction'] if 't04_spiral_a08_spiral_fraction' in row else 0,  # Spiral\n",
    "        3: row['t03_bar_a06_bar_fraction'] if 't03_bar_a06_bar_fraction' in row else 0,  # Barred Spiral\n",
    "    }\n",
    "    return max(fractions, key=fractions.get)\n",
    "\n",
    "df['extended_label'] = df.apply(assign_extended_label, axis=1)\n",
    "print(\"Label distribution:\\n\", df['extended_label'].value_counts())\n"
   ]
  },
  {
   "cell_type": "code",
   "execution_count": 7,
   "id": "7b0849a7",
   "metadata": {},
   "outputs": [
    {
     "name": "stderr",
     "output_type": "stream",
     "text": [
      "  1%|▏         | 53/4000 [01:32<4:56:07,  4.50s/it]"
     ]
    },
    {
     "name": "stdout",
     "output_type": "stream",
     "text": [
      "Failed to fetch datafinal2/images\\52.jpg: HTTPSConnectionPool(host='skyserver.sdss.org', port=443): Read timed out. (read timeout=10)\n"
     ]
    },
    {
     "name": "stderr",
     "output_type": "stream",
     "text": [
      " 79%|███████▉  | 3171/4000 [1:18:41<1:22:25,  5.97s/it]"
     ]
    },
    {
     "name": "stdout",
     "output_type": "stream",
     "text": [
      "Failed to fetch datafinal2/images\\3170.jpg: HTTPSConnectionPool(host='skyserver.sdss.org', port=443): Read timed out. (read timeout=10)\n"
     ]
    },
    {
     "name": "stderr",
     "output_type": "stream",
     "text": [
      " 79%|███████▉  | 3177/4000 [1:19:33<2:03:30,  9.00s/it]"
     ]
    },
    {
     "name": "stdout",
     "output_type": "stream",
     "text": [
      "Failed to fetch datafinal2/images\\3176.jpg: HTTPSConnectionPool(host='skyserver.sdss.org', port=443): Read timed out. (read timeout=10)\n"
     ]
    },
    {
     "name": "stderr",
     "output_type": "stream",
     "text": [
      " 88%|████████▊ | 3538/4000 [1:29:08<39:10,  5.09s/it]  "
     ]
    },
    {
     "name": "stdout",
     "output_type": "stream",
     "text": [
      "Failed to fetch datafinal2/images\\3537.jpg: HTTPSConnectionPool(host='skyserver.sdss.org', port=443): Read timed out. (read timeout=10)\n"
     ]
    },
    {
     "name": "stderr",
     "output_type": "stream",
     "text": [
      " 92%|█████████▏| 3675/4000 [1:33:38<43:30,  8.03s/it]"
     ]
    },
    {
     "name": "stdout",
     "output_type": "stream",
     "text": [
      "Failed to fetch datafinal2/images\\3674.jpg: HTTPSConnectionPool(host='skyserver.sdss.org', port=443): Read timed out. (read timeout=10)\n"
     ]
    },
    {
     "name": "stderr",
     "output_type": "stream",
     "text": [
      " 92%|█████████▎| 3700/4000 [1:34:31<26:01,  5.21s/it]"
     ]
    },
    {
     "name": "stdout",
     "output_type": "stream",
     "text": [
      "Failed to fetch datafinal2/images\\3699.jpg: HTTPSConnectionPool(host='skyserver.sdss.org', port=443): Read timed out. (read timeout=10)\n"
     ]
    },
    {
     "name": "stderr",
     "output_type": "stream",
     "text": [
      " 93%|█████████▎| 3701/4000 [1:34:42<34:34,  6.94s/it]"
     ]
    },
    {
     "name": "stdout",
     "output_type": "stream",
     "text": [
      "Failed to fetch datafinal2/images\\3700.jpg: HTTPSConnectionPool(host='skyserver.sdss.org', port=443): Read timed out. (read timeout=10)\n"
     ]
    },
    {
     "name": "stderr",
     "output_type": "stream",
     "text": [
      " 93%|█████████▎| 3708/4000 [1:35:26<37:02,  7.61s/it]"
     ]
    },
    {
     "name": "stdout",
     "output_type": "stream",
     "text": [
      "Failed to fetch datafinal2/images\\3707.jpg: HTTPSConnectionPool(host='skyserver.sdss.org', port=443): Read timed out. (read timeout=10)\n"
     ]
    },
    {
     "name": "stderr",
     "output_type": "stream",
     "text": [
      " 93%|█████████▎| 3714/4000 [1:36:02<33:53,  7.11s/it]"
     ]
    },
    {
     "name": "stdout",
     "output_type": "stream",
     "text": [
      "Failed to fetch datafinal2/images\\3713.jpg: HTTPSConnectionPool(host='skyserver.sdss.org', port=443): Read timed out. (read timeout=10)\n"
     ]
    },
    {
     "name": "stderr",
     "output_type": "stream",
     "text": [
      " 93%|█████████▎| 3715/4000 [1:36:12<39:10,  8.25s/it]"
     ]
    },
    {
     "name": "stdout",
     "output_type": "stream",
     "text": [
      "Failed to fetch datafinal2/images\\3714.jpg: HTTPSConnectionPool(host='skyserver.sdss.org', port=443): Read timed out. (read timeout=10)\n"
     ]
    },
    {
     "name": "stderr",
     "output_type": "stream",
     "text": [
      " 93%|█████████▎| 3716/4000 [1:36:23<42:50,  9.05s/it]"
     ]
    },
    {
     "name": "stdout",
     "output_type": "stream",
     "text": [
      "Failed to fetch datafinal2/images\\3715.jpg: HTTPSConnectionPool(host='skyserver.sdss.org', port=443): Read timed out. (read timeout=10)\n"
     ]
    },
    {
     "name": "stderr",
     "output_type": "stream",
     "text": [
      " 93%|█████████▎| 3717/4000 [1:36:34<45:30,  9.65s/it]"
     ]
    },
    {
     "name": "stdout",
     "output_type": "stream",
     "text": [
      "Failed to fetch datafinal2/images\\3716.jpg: HTTPSConnectionPool(host='skyserver.sdss.org', port=443): Read timed out. (read timeout=10)\n"
     ]
    },
    {
     "name": "stderr",
     "output_type": "stream",
     "text": [
      " 94%|█████████▎| 3742/4000 [1:37:25<20:21,  4.73s/it]"
     ]
    },
    {
     "name": "stdout",
     "output_type": "stream",
     "text": [
      "Failed to fetch datafinal2/images\\3741.jpg: HTTPSConnectionPool(host='skyserver.sdss.org', port=443): Read timed out. (read timeout=10)\n"
     ]
    },
    {
     "name": "stderr",
     "output_type": "stream",
     "text": [
      " 94%|█████████▎| 3743/4000 [1:37:36<28:15,  6.60s/it]"
     ]
    },
    {
     "name": "stdout",
     "output_type": "stream",
     "text": [
      "Failed to fetch datafinal2/images\\3742.jpg: HTTPSConnectionPool(host='skyserver.sdss.org', port=443): Read timed out. (read timeout=10)\n"
     ]
    },
    {
     "name": "stderr",
     "output_type": "stream",
     "text": [
      " 94%|█████████▍| 3752/4000 [1:38:19<31:31,  7.63s/it]"
     ]
    },
    {
     "name": "stdout",
     "output_type": "stream",
     "text": [
      "Failed to fetch datafinal2/images\\3751.jpg: HTTPSConnectionPool(host='skyserver.sdss.org', port=443): Read timed out. (read timeout=10)\n"
     ]
    },
    {
     "name": "stderr",
     "output_type": "stream",
     "text": [
      " 94%|█████████▍| 3753/4000 [1:38:30<35:26,  8.61s/it]"
     ]
    },
    {
     "name": "stdout",
     "output_type": "stream",
     "text": [
      "Failed to fetch datafinal2/images\\3752.jpg: HTTPSConnectionPool(host='skyserver.sdss.org', port=443): Read timed out. (read timeout=10)\n"
     ]
    },
    {
     "name": "stderr",
     "output_type": "stream",
     "text": [
      " 94%|█████████▍| 3754/4000 [1:38:40<38:08,  9.30s/it]"
     ]
    },
    {
     "name": "stdout",
     "output_type": "stream",
     "text": [
      "Failed to fetch datafinal2/images\\3753.jpg: HTTPSConnectionPool(host='skyserver.sdss.org', port=443): Read timed out. (read timeout=10)\n"
     ]
    },
    {
     "name": "stderr",
     "output_type": "stream",
     "text": [
      " 95%|█████████▌| 3801/4000 [1:40:07<21:41,  6.54s/it]"
     ]
    },
    {
     "name": "stdout",
     "output_type": "stream",
     "text": [
      "Failed to fetch datafinal2/images\\3800.jpg: HTTPSConnectionPool(host='skyserver.sdss.org', port=443): Read timed out. (read timeout=10)\n"
     ]
    },
    {
     "name": "stderr",
     "output_type": "stream",
     "text": [
      " 95%|█████████▌| 3802/4000 [1:40:18<25:56,  7.86s/it]"
     ]
    },
    {
     "name": "stdout",
     "output_type": "stream",
     "text": [
      "Failed to fetch datafinal2/images\\3801.jpg: HTTPSConnectionPool(host='skyserver.sdss.org', port=443): Read timed out. (read timeout=10)\n"
     ]
    },
    {
     "name": "stderr",
     "output_type": "stream",
     "text": [
      " 95%|█████████▌| 3803/4000 [1:40:29<28:53,  8.80s/it]"
     ]
    },
    {
     "name": "stdout",
     "output_type": "stream",
     "text": [
      "Failed to fetch datafinal2/images\\3802.jpg: HTTPSConnectionPool(host='skyserver.sdss.org', port=443): Read timed out. (read timeout=10)\n"
     ]
    },
    {
     "name": "stderr",
     "output_type": "stream",
     "text": [
      " 95%|█████████▌| 3804/4000 [1:40:40<30:52,  9.45s/it]"
     ]
    },
    {
     "name": "stdout",
     "output_type": "stream",
     "text": [
      "Failed to fetch datafinal2/images\\3803.jpg: HTTPSConnectionPool(host='skyserver.sdss.org', port=443): Read timed out. (read timeout=10)\n"
     ]
    },
    {
     "name": "stderr",
     "output_type": "stream",
     "text": [
      " 95%|█████████▌| 3807/4000 [1:41:05<29:20,  9.12s/it]"
     ]
    },
    {
     "name": "stdout",
     "output_type": "stream",
     "text": [
      "Failed to fetch datafinal2/images\\3806.jpg: HTTPSConnectionPool(host='skyserver.sdss.org', port=443): Read timed out. (read timeout=10)\n"
     ]
    },
    {
     "name": "stderr",
     "output_type": "stream",
     "text": [
      " 95%|█████████▌| 3808/4000 [1:41:16<30:53,  9.66s/it]"
     ]
    },
    {
     "name": "stdout",
     "output_type": "stream",
     "text": [
      "Failed to fetch datafinal2/images\\3807.jpg: HTTPSConnectionPool(host='skyserver.sdss.org', port=443): Read timed out. (read timeout=10)\n"
     ]
    },
    {
     "name": "stderr",
     "output_type": "stream",
     "text": [
      " 95%|█████████▌| 3809/4000 [1:41:27<32:07, 10.09s/it]"
     ]
    },
    {
     "name": "stdout",
     "output_type": "stream",
     "text": [
      "Failed to fetch datafinal2/images\\3808.jpg: HTTPSConnectionPool(host='skyserver.sdss.org', port=443): Read timed out. (read timeout=10)\n"
     ]
    },
    {
     "name": "stderr",
     "output_type": "stream",
     "text": [
      " 95%|█████████▌| 3810/4000 [1:41:38<32:46, 10.35s/it]"
     ]
    },
    {
     "name": "stdout",
     "output_type": "stream",
     "text": [
      "Failed to fetch datafinal2/images\\3809.jpg: HTTPSConnectionPool(host='skyserver.sdss.org', port=443): Read timed out. (read timeout=10)\n"
     ]
    },
    {
     "name": "stderr",
     "output_type": "stream",
     "text": [
      " 98%|█████████▊| 3926/4000 [1:44:59<07:47,  6.32s/it]"
     ]
    },
    {
     "name": "stdout",
     "output_type": "stream",
     "text": [
      "Failed to fetch datafinal2/images\\3925.jpg: HTTPSConnectionPool(host='skyserver.sdss.org', port=443): Read timed out. (read timeout=10)\n"
     ]
    },
    {
     "name": "stderr",
     "output_type": "stream",
     "text": [
      " 98%|█████████▊| 3927/4000 [1:45:10<09:23,  7.72s/it]"
     ]
    },
    {
     "name": "stdout",
     "output_type": "stream",
     "text": [
      "Failed to fetch datafinal2/images\\3926.jpg: HTTPSConnectionPool(host='skyserver.sdss.org', port=443): Read timed out. (read timeout=10)\n"
     ]
    },
    {
     "name": "stderr",
     "output_type": "stream",
     "text": [
      " 98%|█████████▊| 3928/4000 [1:45:21<10:24,  8.67s/it]"
     ]
    },
    {
     "name": "stdout",
     "output_type": "stream",
     "text": [
      "Failed to fetch datafinal2/images\\3927.jpg: HTTPSConnectionPool(host='skyserver.sdss.org', port=443): Read timed out. (read timeout=10)\n"
     ]
    },
    {
     "name": "stderr",
     "output_type": "stream",
     "text": [
      " 98%|█████████▊| 3929/4000 [1:45:32<11:03,  9.34s/it]"
     ]
    },
    {
     "name": "stdout",
     "output_type": "stream",
     "text": [
      "Failed to fetch datafinal2/images\\3928.jpg: HTTPSConnectionPool(host='skyserver.sdss.org', port=443): Read timed out. (read timeout=10)\n"
     ]
    },
    {
     "name": "stderr",
     "output_type": "stream",
     "text": [
      " 98%|█████████▊| 3930/4000 [1:45:42<11:27,  9.83s/it]"
     ]
    },
    {
     "name": "stdout",
     "output_type": "stream",
     "text": [
      "Failed to fetch datafinal2/images\\3929.jpg: HTTPSConnectionPool(host='skyserver.sdss.org', port=443): Read timed out. (read timeout=10)\n"
     ]
    },
    {
     "name": "stderr",
     "output_type": "stream",
     "text": [
      " 98%|█████████▊| 3935/4000 [1:46:09<07:39,  7.07s/it]"
     ]
    },
    {
     "name": "stdout",
     "output_type": "stream",
     "text": [
      "Failed to fetch datafinal2/images\\3934.jpg: HTTPSConnectionPool(host='skyserver.sdss.org', port=443): Read timed out. (read timeout=10)\n"
     ]
    },
    {
     "name": "stderr",
     "output_type": "stream",
     "text": [
      " 98%|█████████▊| 3936/4000 [1:46:19<08:46,  8.23s/it]"
     ]
    },
    {
     "name": "stdout",
     "output_type": "stream",
     "text": [
      "Failed to fetch datafinal2/images\\3935.jpg: HTTPSConnectionPool(host='skyserver.sdss.org', port=443): Read timed out. (read timeout=10)\n"
     ]
    },
    {
     "name": "stderr",
     "output_type": "stream",
     "text": [
      " 98%|█████████▊| 3937/4000 [1:46:30<09:29,  9.05s/it]"
     ]
    },
    {
     "name": "stdout",
     "output_type": "stream",
     "text": [
      "Failed to fetch datafinal2/images\\3936.jpg: HTTPSConnectionPool(host='skyserver.sdss.org', port=443): Read timed out. (read timeout=10)\n"
     ]
    },
    {
     "name": "stderr",
     "output_type": "stream",
     "text": [
      " 98%|█████████▊| 3938/4000 [1:46:42<10:00,  9.68s/it]"
     ]
    },
    {
     "name": "stdout",
     "output_type": "stream",
     "text": [
      "Failed to fetch datafinal2/images\\3937.jpg: HTTPSConnectionPool(host='skyserver.sdss.org', port=443): Read timed out. (read timeout=10)\n"
     ]
    },
    {
     "name": "stderr",
     "output_type": "stream",
     "text": [
      " 99%|█████████▊| 3941/4000 [1:47:03<08:20,  8.49s/it]"
     ]
    },
    {
     "name": "stdout",
     "output_type": "stream",
     "text": [
      "Failed to fetch datafinal2/images\\3940.jpg: HTTPSConnectionPool(host='skyserver.sdss.org', port=443): Read timed out. (read timeout=10)\n"
     ]
    },
    {
     "name": "stderr",
     "output_type": "stream",
     "text": [
      " 99%|█████████▊| 3945/4000 [1:47:22<06:11,  6.75s/it]"
     ]
    },
    {
     "name": "stdout",
     "output_type": "stream",
     "text": [
      "Failed to fetch datafinal2/images\\3944.jpg: HTTPSConnectionPool(host='skyserver.sdss.org', port=443): Read timed out. (read timeout=10)\n"
     ]
    },
    {
     "name": "stderr",
     "output_type": "stream",
     "text": [
      " 99%|█████████▊| 3946/4000 [1:47:33<07:12,  8.01s/it]"
     ]
    },
    {
     "name": "stdout",
     "output_type": "stream",
     "text": [
      "Failed to fetch datafinal2/images\\3945.jpg: HTTPSConnectionPool(host='skyserver.sdss.org', port=443): Read timed out. (read timeout=10)\n"
     ]
    },
    {
     "name": "stderr",
     "output_type": "stream",
     "text": [
      " 99%|█████████▊| 3947/4000 [1:47:44<07:50,  8.89s/it]"
     ]
    },
    {
     "name": "stdout",
     "output_type": "stream",
     "text": [
      "Failed to fetch datafinal2/images\\3946.jpg: HTTPSConnectionPool(host='skyserver.sdss.org', port=443): Read timed out. (read timeout=10)\n"
     ]
    },
    {
     "name": "stderr",
     "output_type": "stream",
     "text": [
      " 99%|█████████▉| 3952/4000 [1:48:11<05:57,  7.45s/it]"
     ]
    },
    {
     "name": "stdout",
     "output_type": "stream",
     "text": [
      "Failed to fetch datafinal2/images\\3951.jpg: HTTPSConnectionPool(host='skyserver.sdss.org', port=443): Read timed out. (read timeout=10)\n"
     ]
    },
    {
     "name": "stderr",
     "output_type": "stream",
     "text": [
      " 99%|█████████▉| 3953/4000 [1:48:22<06:39,  8.51s/it]"
     ]
    },
    {
     "name": "stdout",
     "output_type": "stream",
     "text": [
      "Failed to fetch datafinal2/images\\3952.jpg: HTTPSConnectionPool(host='skyserver.sdss.org', port=443): Read timed out. (read timeout=10)\n"
     ]
    },
    {
     "name": "stderr",
     "output_type": "stream",
     "text": [
      " 99%|█████████▉| 3954/4000 [1:48:33<07:04,  9.23s/it]"
     ]
    },
    {
     "name": "stdout",
     "output_type": "stream",
     "text": [
      "Failed to fetch datafinal2/images\\3953.jpg: HTTPSConnectionPool(host='skyserver.sdss.org', port=443): Read timed out. (read timeout=10)\n"
     ]
    },
    {
     "name": "stderr",
     "output_type": "stream",
     "text": [
      " 99%|█████████▉| 3970/4000 [1:49:18<03:02,  6.07s/it]"
     ]
    },
    {
     "name": "stdout",
     "output_type": "stream",
     "text": [
      "Failed to fetch datafinal2/images\\3969.jpg: HTTPSConnectionPool(host='skyserver.sdss.org', port=443): Read timed out. (read timeout=10)\n"
     ]
    },
    {
     "name": "stderr",
     "output_type": "stream",
     "text": [
      " 99%|█████████▉| 3971/4000 [1:49:29<03:39,  7.56s/it]"
     ]
    },
    {
     "name": "stdout",
     "output_type": "stream",
     "text": [
      "Failed to fetch datafinal2/images\\3970.jpg: HTTPSConnectionPool(host='skyserver.sdss.org', port=443): Read timed out. (read timeout=10)\n"
     ]
    },
    {
     "name": "stderr",
     "output_type": "stream",
     "text": [
      " 99%|█████████▉| 3972/4000 [1:49:40<04:01,  8.62s/it]"
     ]
    },
    {
     "name": "stdout",
     "output_type": "stream",
     "text": [
      "Failed to fetch datafinal2/images\\3971.jpg: HTTPSConnectionPool(host='skyserver.sdss.org', port=443): Read timed out. (read timeout=10)\n"
     ]
    },
    {
     "name": "stderr",
     "output_type": "stream",
     "text": [
      " 99%|█████████▉| 3977/4000 [1:50:07<02:46,  7.24s/it]"
     ]
    },
    {
     "name": "stdout",
     "output_type": "stream",
     "text": [
      "Failed to fetch datafinal2/images\\3976.jpg: HTTPSConnectionPool(host='skyserver.sdss.org', port=443): Read timed out. (read timeout=10)\n"
     ]
    },
    {
     "name": "stderr",
     "output_type": "stream",
     "text": [
      " 99%|█████████▉| 3978/4000 [1:50:18<03:03,  8.34s/it]"
     ]
    },
    {
     "name": "stdout",
     "output_type": "stream",
     "text": [
      "Failed to fetch datafinal2/images\\3977.jpg: HTTPSConnectionPool(host='skyserver.sdss.org', port=443): Read timed out. (read timeout=10)\n"
     ]
    },
    {
     "name": "stderr",
     "output_type": "stream",
     "text": [
      " 99%|█████████▉| 3979/4000 [1:50:29<03:12,  9.15s/it]"
     ]
    },
    {
     "name": "stdout",
     "output_type": "stream",
     "text": [
      "Failed to fetch datafinal2/images\\3978.jpg: HTTPSConnectionPool(host='skyserver.sdss.org', port=443): Read timed out. (read timeout=10)\n"
     ]
    },
    {
     "name": "stderr",
     "output_type": "stream",
     "text": [
      "100%|█████████▉| 3980/4000 [1:50:40<03:14,  9.72s/it]"
     ]
    },
    {
     "name": "stdout",
     "output_type": "stream",
     "text": [
      "Failed to fetch datafinal2/images\\3979.jpg: HTTPSConnectionPool(host='skyserver.sdss.org', port=443): Read timed out. (read timeout=10)\n"
     ]
    },
    {
     "name": "stderr",
     "output_type": "stream",
     "text": [
      "100%|█████████▉| 3983/4000 [1:50:56<02:07,  7.50s/it]"
     ]
    },
    {
     "name": "stdout",
     "output_type": "stream",
     "text": [
      "Failed to fetch datafinal2/images\\3982.jpg: HTTPSConnectionPool(host='skyserver.sdss.org', port=443): Read timed out. (read timeout=10)\n"
     ]
    },
    {
     "name": "stderr",
     "output_type": "stream",
     "text": [
      "100%|█████████▉| 3984/4000 [1:51:07<02:16,  8.53s/it]"
     ]
    },
    {
     "name": "stdout",
     "output_type": "stream",
     "text": [
      "Failed to fetch datafinal2/images\\3983.jpg: HTTPSConnectionPool(host='skyserver.sdss.org', port=443): Read timed out. (read timeout=10)\n"
     ]
    },
    {
     "name": "stderr",
     "output_type": "stream",
     "text": [
      "100%|█████████▉| 3985/4000 [1:51:18<02:18,  9.24s/it]"
     ]
    },
    {
     "name": "stdout",
     "output_type": "stream",
     "text": [
      "Failed to fetch datafinal2/images\\3984.jpg: HTTPSConnectionPool(host='skyserver.sdss.org', port=443): Read timed out. (read timeout=10)\n"
     ]
    },
    {
     "name": "stderr",
     "output_type": "stream",
     "text": [
      "100%|█████████▉| 3986/4000 [1:51:29<02:16,  9.76s/it]"
     ]
    },
    {
     "name": "stdout",
     "output_type": "stream",
     "text": [
      "Failed to fetch datafinal2/images\\3985.jpg: HTTPSConnectionPool(host='skyserver.sdss.org', port=443): Read timed out. (read timeout=10)\n"
     ]
    },
    {
     "name": "stderr",
     "output_type": "stream",
     "text": [
      "100%|█████████▉| 3987/4000 [1:51:40<02:11, 10.12s/it]"
     ]
    },
    {
     "name": "stdout",
     "output_type": "stream",
     "text": [
      "Failed to fetch datafinal2/images\\3986.jpg: HTTPSConnectionPool(host='skyserver.sdss.org', port=443): Read timed out. (read timeout=10)\n"
     ]
    },
    {
     "name": "stderr",
     "output_type": "stream",
     "text": [
      "100%|█████████▉| 3997/4000 [1:52:19<00:18,  6.27s/it]"
     ]
    },
    {
     "name": "stdout",
     "output_type": "stream",
     "text": [
      "Failed to fetch datafinal2/images\\3996.jpg: HTTPSConnectionPool(host='skyserver.sdss.org', port=443): Read timed out. (read timeout=10)\n"
     ]
    },
    {
     "name": "stderr",
     "output_type": "stream",
     "text": [
      "100%|██████████| 4000/4000 [1:52:23<00:00,  1.69s/it]\n"
     ]
    },
    {
     "name": "stdout",
     "output_type": "stream",
     "text": [
      "Balanced mapping CSV saved: datafinal2/image_mapping_new.csv\n"
     ]
    }
   ],
   "source": [
    "# -----------------------------\n",
    "# 7️⃣ Download balanced images\n",
    "# -----------------------------\n",
    "mapping = []\n",
    "\n",
    "for idx, row in tqdm(balanced_df.iterrows(), total=len(balanced_df)):\n",
    "    ra, dec = row['ra'], row['dec']\n",
    "    filename = os.path.join(IMG_DIR, f\"{idx}.jpg\")\n",
    "    \n",
    "    if not os.path.exists(filename):\n",
    "        success = fetch_sdss_image(ra, dec, filename)\n",
    "        if not success:\n",
    "            continue\n",
    "    \n",
    "    # store mapping info\n",
    "    mapping.append({\n",
    "        \"idx\": idx,\n",
    "        \"image_filename\": filename,\n",
    "        \"ra\": ra,\n",
    "        \"dec\": dec,\n",
    "        \"extended_label\": row['extended_label'], \n",
    "        **{col: row[col] for col in df.columns if 't0' in col}  # optional morphology columns\n",
    "    })\n",
    "\n",
    "# Save mapping CSV\n",
    "mapping_df = pd.DataFrame(mapping)        \n",
    "mapping_df.to_csv(MAPPING_CSV, index=False)         \n",
    "print(\"Balanced mapping CSV saved:\", MAPPING_CSV)         "
   ]
  },
  {
   "cell_type": "code",
   "execution_count": 10,
   "id": "07074441",
   "metadata": {},
   "outputs": [
    {
     "name": "stdout",
     "output_type": "stream",
     "text": [
      "Merged CSV created successfully at 'datafinalmerged\\merged_8000.csv' with 7945 records.\n"
     ]
    }
   ],
   "source": [
    "import pandas as pd\n",
    "import os\n",
    "\n",
    "# Folder to save the merged CSV\n",
    "output_folder = \"datafinalmerged\"\n",
    "os.makedirs(output_folder, exist_ok=True)  # Create folder if it doesn't exist\n",
    "\n",
    "# Load 4000 records from each CSV\n",
    "csv1 = pd.read_csv(\"datafinal/image_mapping_new.csv\").head(4000)\n",
    "csv2 = pd.read_csv(\"datafinal2/image_mapping_new.csv\").head(4000)\n",
    "\n",
    "# Ensure columns match\n",
    "csv2 = csv2[csv1.columns]\n",
    "\n",
    "# Update 'idx' column to continue from csv1\n",
    "csv2['idx'] = range(csv1['idx'].iloc[-1] + 1, csv1['idx'].iloc[-1] + 1 + len(csv2))\n",
    "\n",
    "# Concatenate the two CSVs\n",
    "merged_csv = pd.concat([csv1, csv2], ignore_index=False)\n",
    "\n",
    "# Save merged CSV in the folder\n",
    "output_file = os.path.join(output_folder, \"merged_8000.csv\")\n",
    "merged_csv.to_csv(output_file, index=False)\n",
    "\n",
    "print(f\"Merged CSV created successfully at '{output_file}' with {len(merged_csv)} records.\")\n"
   ]
  },
  {
   "cell_type": "code",
   "execution_count": 11,
   "id": "cf4f7294",
   "metadata": {},
   "outputs": [
    {
     "name": "stdout",
     "output_type": "stream",
     "text": [
      "All images merged successfully into 'datafinalmerged/image' with sequential names.\n"
     ]
    }
   ],
   "source": [
    "import os\n",
    "import shutil\n",
    "\n",
    "# Source folders\n",
    "folder1 = \"datafinal/images\"\n",
    "folder2 = \"datafinal2/images\"\n",
    "\n",
    "# Destination folder\n",
    "output_folder = \"datafinalmerged/image\"\n",
    "os.makedirs(output_folder, exist_ok=True)  # Create folder if it doesn't exist\n",
    "\n",
    "# Function to copy and rename images sequentially\n",
    "def merge_images(src_folder, start_index):\n",
    "    images = sorted([f for f in os.listdir(src_folder) if f.endswith(\".jpg\")])\n",
    "    for i, img_name in enumerate(images):\n",
    "        src_path = os.path.join(src_folder, img_name)\n",
    "        dst_name = f\"{start_index + i}.jpg\"\n",
    "        dst_path = os.path.join(output_folder, dst_name)\n",
    "        shutil.copy(src_path, dst_path)\n",
    "    return start_index + len(images)  # Return next start index\n",
    "\n",
    "# Copy first folder starting from 0\n",
    "next_index = merge_images(folder1, start_index=0)\n",
    "\n",
    "# Copy second folder starting from where first ended\n",
    "merge_images(folder2, start_index=next_index)\n",
    "\n",
    "print(f\"All images merged successfully into '{output_folder}' with sequential names.\")\n"
   ]
  },
  {
   "cell_type": "code",
   "execution_count": null,
   "id": "87375caa",
   "metadata": {},
   "outputs": [],
   "source": []
  }
 ],
 "metadata": {
  "kernelspec": {
   "display_name": "Python 3",
   "language": "python",
   "name": "python3"
  },
  "language_info": {
   "codemirror_mode": {
    "name": "ipython",
    "version": 3
   },
   "file_extension": ".py",
   "mimetype": "text/x-python",
   "name": "python",
   "nbconvert_exporter": "python",
   "pygments_lexer": "ipython3",
   "version": "3.12.0"
  }
 },
 "nbformat": 4,
 "nbformat_minor": 5
}
