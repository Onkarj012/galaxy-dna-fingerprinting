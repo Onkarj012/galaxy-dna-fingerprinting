{
 "cells": [
  {
   "cell_type": "code",
   "execution_count": 2,
   "id": "a6f2b715",
   "metadata": {},
   "outputs": [
    {
     "name": "stdout",
     "output_type": "stream",
     "text": [
      "\n",
      "--- Columns ---\n",
      "Index(['idx', 'image_filename', 'ra', 'dec', 'extended_label',\n",
      "       't01_smooth_or_features_a01_smooth_count',\n",
      "       't01_smooth_or_features_a01_smooth_weight',\n",
      "       't01_smooth_or_features_a01_smooth_fraction',\n",
      "       't01_smooth_or_features_a01_smooth_weighted_fraction',\n",
      "       't01_smooth_or_features_a01_smooth_debiased',\n",
      "       't01_smooth_or_features_a01_smooth_flag',\n",
      "       't01_smooth_or_features_a02_features_or_disk_count',\n",
      "       't01_smooth_or_features_a02_features_or_disk_weight',\n",
      "       't01_smooth_or_features_a02_features_or_disk_fraction',\n",
      "       't01_smooth_or_features_a02_features_or_disk_weighted_fraction',\n",
      "       't01_smooth_or_features_a02_features_or_disk_debiased',\n",
      "       't01_smooth_or_features_a02_features_or_disk_flag',\n",
      "       't01_smooth_or_features_a03_star_or_artifact_count',\n",
      "       't01_smooth_or_features_a03_star_or_artifact_weight',\n",
      "       't01_smooth_or_features_a03_star_or_artifact_fraction'],\n",
      "      dtype='object')\n"
     ]
    }
   ],
   "source": [
    "import pandas as pd\n",
    "mappeddataset = \"datafinal2/image_mapping_new.csv\";\n",
    "\n",
    "maped = pd.read_csv(mappeddataset, low_memory=False)\n",
    "\n",
    "print(\"\\n--- Columns ---\")\n",
    "print(maped.columns[:20])  # first 20 col names"
   ]
  },
  {
   "cell_type": "code",
   "execution_count": 3,
   "id": "29ef6d11",
   "metadata": {},
   "outputs": [],
   "source": [
    "# -----------------------------\n",
    "# 1️⃣ Imports\n",
    "# -----------------------------\n",
    "import pandas as pd\n",
    "from PIL import Image\n",
    "from tqdm import tqdm\n",
    "import torch\n",
    "from torch.utils.data import Dataset, DataLoader, random_split\n",
    "from torchvision import transforms\n",
    "import torch.nn as nn\n",
    "import torch.nn.functional as F\n",
    "import torch.optim as optim\n",
    "import os"
   ]
  },
  {
   "cell_type": "code",
   "execution_count": 4,
   "id": "f8a53072",
   "metadata": {},
   "outputs": [
    {
     "name": "stdout",
     "output_type": "stream",
     "text": [
      "Dataset loaded: (3946, 173)\n",
      "Index(['idx', 'image_filename', 'ra', 'dec', 'extended_label',\n",
      "       't01_smooth_or_features_a01_smooth_count',\n",
      "       't01_smooth_or_features_a01_smooth_weight',\n",
      "       't01_smooth_or_features_a01_smooth_fraction',\n",
      "       't01_smooth_or_features_a01_smooth_weighted_fraction',\n",
      "       't01_smooth_or_features_a01_smooth_debiased',\n",
      "       ...\n",
      "       't09_bulge_shape_a26_boxy_fraction',\n",
      "       't09_bulge_shape_a26_boxy_weighted_fraction',\n",
      "       't09_bulge_shape_a26_boxy_debiased', 't09_bulge_shape_a26_boxy_flag',\n",
      "       't09_bulge_shape_a27_no_bulge_count',\n",
      "       't09_bulge_shape_a27_no_bulge_weight',\n",
      "       't09_bulge_shape_a27_no_bulge_fraction',\n",
      "       't09_bulge_shape_a27_no_bulge_weighted_fraction',\n",
      "       't09_bulge_shape_a27_no_bulge_debiased',\n",
      "       't09_bulge_shape_a27_no_bulge_flag'],\n",
      "      dtype='object', length=173)\n"
     ]
    }
   ],
   "source": [
    "# -----------------------------\n",
    "# 2️⃣ Load dataset\n",
    "# -----------------------------\n",
    "mapping_df = pd.read_csv(\"datafinal2/image_mapping_new.csv\")\n",
    "print(\"Dataset loaded:\", mapping_df.shape)\n",
    "print(mapping_df.columns)\n"
   ]
  },
  {
   "cell_type": "code",
   "execution_count": 5,
   "id": "9c604aad",
   "metadata": {},
   "outputs": [],
   "source": [
    "# Extended Multi-class labels\n",
    "# 0 = Smooth, 1 = Edge-on, 2 = Spiral, 3 = Barred Spiral, 4 = Merger/Odd, 5 = Star/Artifact\n",
    "\n",
    "def assign_extended_label(row):\n",
    "    fractions = {\n",
    "        # 0: row['t01_smooth_or_features_a01_smooth_fraction'],   # Smooth\n",
    "        # 1: row['t02_edgeon_a04_yes_fraction'] if 't02_edgeon_a04_yes_fraction' in row else 0,  # Edge-on\n",
    "        2: row['t04_spiral_a08_spiral_fraction'] if 't04_spiral_a08_spiral_fraction' in row else 0,  # Spiral\n",
    "        3: row['t03_bar_a06_bar_fraction'] if 't03_bar_a06_bar_fraction' in row else 0,  # Barred Spiral\n",
    "    }\n",
    "    # Return the class with the highest vote fraction\n",
    "    return max(fractions, key=fractions.get)  \n",
    "\n",
    "mapping_df['extended-label'] = mapping_df.apply(assign_extended_label, axis=1)\n"
   ]
  },
  {
   "cell_type": "code",
   "execution_count": 6,
   "id": "96a2d5d5",
   "metadata": {},
   "outputs": [
    {
     "name": "stdout",
     "output_type": "stream",
     "text": [
      "\n",
      "-class label distribution:\n",
      "extended_label\n",
      "2    1974\n",
      "3    1972\n",
      "Name: count, dtype: int64\n"
     ]
    }
   ],
   "source": [
    "print(\"\\n-class label distribution:\")\n",
    "print(mapping_df['extended_label'].value_counts())"
   ]
  },
  {
   "cell_type": "code",
   "execution_count": 7,
   "id": "26104578",
   "metadata": {},
   "outputs": [],
   "source": [
    "# -----------------------------\n",
    "# 4️⃣ PyTorch Dataset\n",
    "# -----------------------------\n",
    "class GalaxyDataset(Dataset):\n",
    "    def __init__(self, df, label_type='binary', transform=None):\n",
    "        self.df = df\n",
    "        self.label_type = label_type\n",
    "        self.transform = transform\n",
    "\n",
    "    def __len__(self):\n",
    "        return len(self.df)\n",
    "\n",
    "    def __getitem__(self, idx):\n",
    "        img_path = self.df.iloc[idx]['image_filename']\n",
    "        label = self.df.iloc[idx][f'{self.label_type}_label']\n",
    "        image = Image.open(img_path).convert('RGB')\n",
    "        if self.transform:\n",
    "            image = self.transform(image)\n",
    "        return image, label"
   ]
  },
  {
   "cell_type": "code",
   "execution_count": 8,
   "id": "f1dd4725",
   "metadata": {},
   "outputs": [],
   "source": [
    "# Image transforms\n",
    "# transform = transforms.Compose([\n",
    "#     transforms.Resize((128, 128)),\n",
    "#     transforms.ToTensor(),\n",
    "#     transforms.Normalize([0.5, 0.5, 0.5], [0.5, 0.5, 0.5])\n",
    "# ])\n",
    "\n",
    "transform = transforms.Compose([\n",
    "    transforms.Resize((128,128)),  # can change to 224 if you want\n",
    "    transforms.RandomHorizontalFlip(),\n",
    "    transforms.RandomRotation(15),\n",
    "    transforms.ColorJitter(brightness=0.2, contrast=0.2),\n",
    "    transforms.ToTensor(),\n",
    "    transforms.Normalize([0.5,0.5,0.5], [0.5,0.5,0.5])\n",
    "])\n"
   ]
  },
  {
   "cell_type": "code",
   "execution_count": 9,
   "id": "1fa565ba",
   "metadata": {},
   "outputs": [],
   "source": [
    "multiclass_dataset = GalaxyDataset(mapping_df, label_type='extended', transform=transform)"
   ]
  },
  {
   "cell_type": "code",
   "execution_count": 10,
   "id": "1e4b0a34",
   "metadata": {},
   "outputs": [],
   "source": [
    "# -----------------------------\n",
    "# 5️⃣ Train/Test split\n",
    "# -----------------------------\n",
    "def split_dataset(dataset, train_ratio=0.8):\n",
    "    train_size = int(train_ratio * len(dataset))\n",
    "    test_size = len(dataset) - train_size\n",
    "    train_dataset, test_dataset = random_split(dataset, [train_size, test_size])\n",
    "    return train_dataset, test_dataset\n",
    "\n",
    "# binary_train, binary_test = split_dataset(binary_dataset)\n",
    "multi_train, multi_test = split_dataset(multiclass_dataset)\n",
    "\n",
    "# binary_train_loader = DataLoader(binary_train, batch_size=32, shuffle=True)\n",
    "# binary_test_loader = DataLoader(binary_test, batch_size=32, shuffle=False)\n",
    "\n",
    "multi_train_loader = DataLoader(multi_train, batch_size=32, shuffle=True)\n",
    "multi_test_loader = DataLoader(multi_test, batch_size=32, shuffle=False)"
   ]
  },
  {
   "cell_type": "code",
   "execution_count": 11,
   "id": "a4082190",
   "metadata": {},
   "outputs": [],
   "source": [
    "# # -----------------------------\n",
    "# # 6️⃣ CNN Model\n",
    "# # -----------------------------\n",
    "\n",
    "class SimpleCNN(nn.Module):\n",
    "    def __init__(self, num_classes=2):\n",
    "        super(SimpleCNN, self).__init__()\n",
    "        self.conv1 = nn.Conv2d(3, 32, 3, 1)\n",
    "        self.conv2 = nn.Conv2d(32, 64, 3, 1)\n",
    "        self.pool = nn.MaxPool2d(2)\n",
    "\n",
    "        # Dummy input to compute flattened size\n",
    "        self._to_linear = None\n",
    "        self.convs(torch.zeros(1, 3, 128, 128))  # pass dummy input\n",
    "        self.fc1 = nn.Linear(self._to_linear, 128)\n",
    "        self.fc2 = nn.Linear(128, num_classes)\n",
    "\n",
    "    def convs(self, x):\n",
    "        x = F.relu(self.conv1(x))\n",
    "        x = self.pool(F.relu(self.conv2(x)))\n",
    "        if self._to_linear is None:\n",
    "            self._to_linear = x.view(1, -1).shape[1]\n",
    "        return x\n",
    "\n",
    "    def forward(self, x):\n",
    "        x = self.convs(x)\n",
    "        x = x.view(x.size(0), -1)\n",
    "        x = F.relu(self.fc1(x))\n",
    "        x = self.fc2(x)\n",
    "        return x\n"
   ]
  },
  {
   "cell_type": "code",
   "execution_count": 12,
   "id": "baac2803",
   "metadata": {},
   "outputs": [],
   "source": [
    "# -----------------------------\n",
    "# 7️⃣ Training Function\n",
    "# -----------------------------\n",
    "def train_model(model, train_loader, criterion, optimizer, device, epochs=10):\n",
    "    model.to(device)\n",
    "    model.train()\n",
    "    for epoch in range(epochs):\n",
    "        running_loss = 0\n",
    "        for images, labels in tqdm(train_loader, desc=f\"Epoch {epoch+1}/{epochs}\"):\n",
    "            images, labels = images.to(device), labels.to(device)\n",
    "            optimizer.zero_grad()\n",
    "            outputs = model(images)\n",
    "            loss = criterion(outputs, labels)\n",
    "            loss.backward()\n",
    "            optimizer.step()\n",
    "            running_loss += loss.item()\n",
    "        print(f\"Epoch [{epoch+1}/{epochs}] Loss: {running_loss/len(train_loader):.4f}\")"
   ]
  },
  {
   "cell_type": "code",
   "execution_count": 13,
   "id": "bc6cda91",
   "metadata": {},
   "outputs": [],
   "source": [
    "# -----------------------------\n",
    "# 8️⃣ Evaluation Function\n",
    "# -----------------------------\n",
    "def evaluate_model(model, test_loader, device):\n",
    "    model.eval()\n",
    "    correct = 0\n",
    "    total = 0\n",
    "    with torch.no_grad():\n",
    "        for images, labels in test_loader:\n",
    "            images, labels = images.to(device), labels.to(device)\n",
    "            outputs = model(images)\n",
    "            _, predicted = torch.max(outputs, 1)\n",
    "            total += labels.size(0)\n",
    "            correct += (predicted == labels).sum().item()\n",
    "    acc = 100 * correct / total\n",
    "    return acc"
   ]
  },
  {
   "cell_type": "code",
   "execution_count": 14,
   "id": "c56d378c",
   "metadata": {},
   "outputs": [
    {
     "name": "stderr",
     "output_type": "stream",
     "text": [
      "Epoch 1/10: 100%|██████████| 99/99 [01:20<00:00,  1.24it/s]\n"
     ]
    },
    {
     "name": "stdout",
     "output_type": "stream",
     "text": [
      "Epoch [1/10] Loss: 1.1008\n"
     ]
    },
    {
     "name": "stderr",
     "output_type": "stream",
     "text": [
      "Epoch 2/10: 100%|██████████| 99/99 [01:23<00:00,  1.19it/s]\n"
     ]
    },
    {
     "name": "stdout",
     "output_type": "stream",
     "text": [
      "Epoch [2/10] Loss: 0.6988\n"
     ]
    },
    {
     "name": "stderr",
     "output_type": "stream",
     "text": [
      "Epoch 3/10: 100%|██████████| 99/99 [01:19<00:00,  1.24it/s]\n"
     ]
    },
    {
     "name": "stdout",
     "output_type": "stream",
     "text": [
      "Epoch [3/10] Loss: 0.6857\n"
     ]
    },
    {
     "name": "stderr",
     "output_type": "stream",
     "text": [
      "Epoch 4/10: 100%|██████████| 99/99 [01:57<00:00,  1.18s/it]\n"
     ]
    },
    {
     "name": "stdout",
     "output_type": "stream",
     "text": [
      "Epoch [4/10] Loss: 0.6885\n"
     ]
    },
    {
     "name": "stderr",
     "output_type": "stream",
     "text": [
      "Epoch 5/10: 100%|██████████| 99/99 [01:57<00:00,  1.19s/it]\n"
     ]
    },
    {
     "name": "stdout",
     "output_type": "stream",
     "text": [
      "Epoch [5/10] Loss: 0.6806\n"
     ]
    },
    {
     "name": "stderr",
     "output_type": "stream",
     "text": [
      "Epoch 6/10: 100%|██████████| 99/99 [01:57<00:00,  1.19s/it]\n"
     ]
    },
    {
     "name": "stdout",
     "output_type": "stream",
     "text": [
      "Epoch [6/10] Loss: 0.6768\n"
     ]
    },
    {
     "name": "stderr",
     "output_type": "stream",
     "text": [
      "Epoch 7/10: 100%|██████████| 99/99 [01:56<00:00,  1.17s/it]\n"
     ]
    },
    {
     "name": "stdout",
     "output_type": "stream",
     "text": [
      "Epoch [7/10] Loss: 0.6807\n"
     ]
    },
    {
     "name": "stderr",
     "output_type": "stream",
     "text": [
      "Epoch 8/10: 100%|██████████| 99/99 [02:00<00:00,  1.21s/it]\n"
     ]
    },
    {
     "name": "stdout",
     "output_type": "stream",
     "text": [
      "Epoch [8/10] Loss: 0.6776\n"
     ]
    },
    {
     "name": "stderr",
     "output_type": "stream",
     "text": [
      "Epoch 9/10: 100%|██████████| 99/99 [01:57<00:00,  1.19s/it]\n"
     ]
    },
    {
     "name": "stdout",
     "output_type": "stream",
     "text": [
      "Epoch [9/10] Loss: 0.6804\n"
     ]
    },
    {
     "name": "stderr",
     "output_type": "stream",
     "text": [
      "Epoch 10/10: 100%|██████████| 99/99 [01:56<00:00,  1.18s/it]\n"
     ]
    },
    {
     "name": "stdout",
     "output_type": "stream",
     "text": [
      "Epoch [10/10] Loss: 0.6804\n",
      "Extended Multi-Class Classification Test Accuracy: 58.99%\n"
     ]
    }
   ],
   "source": [
    "# # -----------------------------\n",
    "# # 🔟 Train & Evaluate Multi-Class Classification (6 classes)\n",
    "# # -----------------------------\n",
    "device = torch.device(\"cuda\" if torch.cuda.is_available() else \"cpu\")\n",
    "multi_model = SimpleCNN(num_classes=4)   # Changed from 3 → 6\n",
    "criterion_multi = nn.CrossEntropyLoss()\n",
    "optimizer_multi = optim.Adam(multi_model.parameters(), lr=0.001)\n",
    "\n",
    "train_model(multi_model, multi_train_loader, criterion_multi, optimizer_multi, device, epochs=10)\n",
    "multi_acc = evaluate_model(multi_model, multi_test_loader, device)\n",
    "print(f\"Extended Multi-Class Classification Test Accuracy: {multi_acc:.2f}%\")\n",
    "\n",
    "# print(mapping_df.columns)  # should include 'extended_label'\n",
    "# Rename the column to use underscore\n",
    "# mapping_df.rename(columns={'07_balanceddataset_training.ipynbextended-label': 'extended_label'}, inplace=True)\n",
    "\n",
    "# Check it\n",
    "# print(mapping_df.columns)\n",
    "# y = mapping_df['extended_label'].values \n"
   ]
  },
  {
   "cell_type": "code",
   "execution_count": 15,
   "id": "8952bc5c",
   "metadata": {},
   "outputs": [],
   "source": [
    "import torch\n",
    "from sklearn.metrics import accuracy_score, classification_report, confusion_matrix\n",
    "import matplotlib.pyplot as plt\n",
    "import seaborn as sns\n",
    "import numpy as np\n",
    "\n",
    "def evaluate_model(model, dataloader, device, class_names=None, num_images_to_show=5):\n",
    "    model.eval()\n",
    "    y_true = []\n",
    "    y_pred = []\n",
    "    images_list = []\n",
    "    \n",
    "    with torch.no_grad():\n",
    "        for images, labels in dataloader:\n",
    "            images, labels = images.to(device), labels.to(device)\n",
    "            outputs = model(images)\n",
    "            preds = torch.argmax(outputs, dim=1)\n",
    "            \n",
    "            y_true.extend(labels.cpu().numpy())\n",
    "            y_pred.extend(preds.cpu().numpy())\n",
    "            images_list.extend(images.cpu())\n",
    "    \n",
    "    y_true = np.array(y_true)\n",
    "    y_pred = np.array(y_pred)\n",
    "    \n",
    "    # Automatically handle class names\n",
    "    if class_names is None:\n",
    "        unique_classes = np.unique(np.concatenate([y_true, y_pred]))\n",
    "        class_names = [str(c) for c in unique_classes]\n",
    "    \n",
    "    # Print metrics\n",
    "    acc = accuracy_score(y_true, y_pred)\n",
    "    print(f\"Test Accuracy: {acc*100:.2f}%\\n\")\n",
    "    print(\"Classification Report:\")\n",
    "    print(classification_report(y_true, y_pred, labels=range(len(class_names)), target_names=class_names))\n",
    "    \n",
    "    # Confusion matrix\n",
    "    cm = confusion_matrix(y_true, y_pred, labels=range(len(class_names)))\n",
    "    plt.figure(figsize=(6,5))\n",
    "    sns.heatmap(cm, annot=True, fmt='d', cmap='Blues', xticklabels=class_names, yticklabels=class_names)\n",
    "    plt.xlabel(\"Predicted\")\n",
    "    plt.ylabel(\"Actual\")\n",
    "    plt.title(\"Confusion Matrix\") \n",
    "    plt.show()\n",
    "    \n",
    "    # Show some sample predictions\n",
    "    print(f\"\\nShowing {num_images_to_show} sample predictions:\")\n",
    "    for i in range(min(num_images_to_show, len(images_list))):\n",
    "        img_tensor = images_list[i]\n",
    "        img = img_tensor.permute(1,2,0).numpy()  # CHW → HWC\n",
    "        img = np.clip(img, 0, 1)\n",
    "        plt.imshow(img)\n",
    "        true_label = class_names[y_true[i]]\n",
    "        pred_label = class_names[y_pred[i]]\n",
    "        plt.title(f\"True: {true_label}, Predicted: {pred_label}\")\n",
    "        plt.axis('off')\n",
    "        plt.show()\n"
   ]
  },
  {
   "cell_type": "code",
   "execution_count": 18,
   "id": "22ebf254",
   "metadata": {},
   "outputs": [
    {
     "name": "stdout",
     "output_type": "stream",
     "text": [
      "Test Accuracy: 58.86%\n",
      "\n",
      "Classification Report:\n",
      "               precision    recall  f1-score   support\n",
      "\n",
      "       Smooth       0.00      0.00      0.00         0\n",
      "      Edge-on       0.00      0.00      0.00         0\n",
      "       Spiral       0.66      0.36      0.46       392\n",
      "Barred Spiral       0.56      0.81      0.67       398\n",
      "\n",
      "     accuracy                           0.59       790\n",
      "    macro avg       0.30      0.29      0.28       790\n",
      " weighted avg       0.61      0.59      0.57       790\n",
      "\n"
     ]
    },
    {
     "name": "stderr",
     "output_type": "stream",
     "text": [
      "c:\\Users\\RIYA\\Desktop\\AllFolders\\Demo\\ML\\venv\\Lib\\site-packages\\sklearn\\metrics\\_classification.py:1531: UndefinedMetricWarning: Precision is ill-defined and being set to 0.0 in labels with no predicted samples. Use `zero_division` parameter to control this behavior.\n",
      "  _warn_prf(average, modifier, f\"{metric.capitalize()} is\", len(result))\n",
      "c:\\Users\\RIYA\\Desktop\\AllFolders\\Demo\\ML\\venv\\Lib\\site-packages\\sklearn\\metrics\\_classification.py:1531: UndefinedMetricWarning: Recall is ill-defined and being set to 0.0 in labels with no true samples. Use `zero_division` parameter to control this behavior.\n",
      "  _warn_prf(average, modifier, f\"{metric.capitalize()} is\", len(result))\n",
      "c:\\Users\\RIYA\\Desktop\\AllFolders\\Demo\\ML\\venv\\Lib\\site-packages\\sklearn\\metrics\\_classification.py:1531: UndefinedMetricWarning: F-score is ill-defined and being set to 0.0 in labels with no true nor predicted samples. Use `zero_division` parameter to control this behavior.\n",
      "  _warn_prf(average, modifier, f\"{metric.capitalize()} is\", len(result))\n",
      "c:\\Users\\RIYA\\Desktop\\AllFolders\\Demo\\ML\\venv\\Lib\\site-packages\\sklearn\\metrics\\_classification.py:1531: UndefinedMetricWarning: Precision is ill-defined and being set to 0.0 in labels with no predicted samples. Use `zero_division` parameter to control this behavior.\n",
      "  _warn_prf(average, modifier, f\"{metric.capitalize()} is\", len(result))\n",
      "c:\\Users\\RIYA\\Desktop\\AllFolders\\Demo\\ML\\venv\\Lib\\site-packages\\sklearn\\metrics\\_classification.py:1531: UndefinedMetricWarning: Recall is ill-defined and being set to 0.0 in labels with no true samples. Use `zero_division` parameter to control this behavior.\n",
      "  _warn_prf(average, modifier, f\"{metric.capitalize()} is\", len(result))\n",
      "c:\\Users\\RIYA\\Desktop\\AllFolders\\Demo\\ML\\venv\\Lib\\site-packages\\sklearn\\metrics\\_classification.py:1531: UndefinedMetricWarning: F-score is ill-defined and being set to 0.0 in labels with no true nor predicted samples. Use `zero_division` parameter to control this behavior.\n",
      "  _warn_prf(average, modifier, f\"{metric.capitalize()} is\", len(result))\n",
      "c:\\Users\\RIYA\\Desktop\\AllFolders\\Demo\\ML\\venv\\Lib\\site-packages\\sklearn\\metrics\\_classification.py:1531: UndefinedMetricWarning: Precision is ill-defined and being set to 0.0 in labels with no predicted samples. Use `zero_division` parameter to control this behavior.\n",
      "  _warn_prf(average, modifier, f\"{metric.capitalize()} is\", len(result))\n",
      "c:\\Users\\RIYA\\Desktop\\AllFolders\\Demo\\ML\\venv\\Lib\\site-packages\\sklearn\\metrics\\_classification.py:1531: UndefinedMetricWarning: Recall is ill-defined and being set to 0.0 in labels with no true samples. Use `zero_division` parameter to control this behavior.\n",
      "  _warn_prf(average, modifier, f\"{metric.capitalize()} is\", len(result))\n",
      "c:\\Users\\RIYA\\Desktop\\AllFolders\\Demo\\ML\\venv\\Lib\\site-packages\\sklearn\\metrics\\_classification.py:1531: UndefinedMetricWarning: F-score is ill-defined and being set to 0.0 in labels with no true nor predicted samples. Use `zero_division` parameter to control this behavior.\n",
      "  _warn_prf(average, modifier, f\"{metric.capitalize()} is\", len(result))\n"
     ]
    },
    {
     "data": {
      "image/png": "[encoded data removed]",
      "text/plain": [
       "<Figure size 600x500 with 2 Axes>"
      ]
     },
     "metadata": {},
     "output_type": "display_data"
    },
    {
     "name": "stdout",
     "output_type": "stream",
     "text": [
      "\n",
      "Showing 5 sample predictions:\n"
     ]
    },
    {
     "data": {
      "image/png": "[encoded data removed]",
      "text/plain": [
       "<Figure size 640x480 with 1 Axes>"
      ]
     },
     "metadata": {},
     "output_type": "display_data"
    },
    {
     "data": {
      "image/png": "[encoded data removed]",
      "text/plain": [
       "<Figure size 640x480 with 1 Axes>"
      ]
     },
     "metadata": {},
     "output_type": "display_data"
    },
    {
     "data": {
      "image/png": "[encoded data removed]",
      "text/plain": [
       "<Figure size 640x480 with 1 Axes>"
      ]
     },
     "metadata": {},
     "output_type": "display_data"
    },
    {
     "data": {
      "image/png": "[encoded data removed]",
      "text/plain": [
       "<Figure size 640x480 with 1 Axes>"
      ]
     },
     "metadata": {},
     "output_type": "display_data"
    },
    {
     "data": {
      "image/png": "[encoded data removed]",
      "text/plain": [
       "<Figure size 640x480 with 1 Axes>"
      ]
     },
     "metadata": {},
     "output_type": "display_data"
    }
   ],
   "source": [
    "\n",
    "multi_class_names = [\n",
    "    \"Smooth\",        # 0\n",
    "    \"Edge-on\",       # 1\n",
    "    \"Spiral\",        # 2\n",
    "    \"Barred Spiral\", # 3\n",
    "]\n",
    "\n",
    "evaluate_model(\n",
    "    multi_model,\n",
    "    multi_test_loader,\n",
    "    device,\n",
    "    class_names=multi_class_names,\n",
    "    num_images_to_show=5\n",
    ")\n"
   ]
  },
  {
   "cell_type": "code",
   "execution_count": null,
   "id": "c43e22cf",
   "metadata": {},
   "outputs": [],
   "source": []
  },
  {
   "cell_type": "code",
   "execution_count": null,
   "id": "6bb6b104",
   "metadata": {},
   "outputs": [],
   "source": []
  }
 ],
 "metadata": {
  "kernelspec": {
   "display_name": "Python 3",
   "language": "python",
   "name": "python3"
  },
  "language_info": {
   "codemirror_mode": {
    "name": "ipython",
    "version": 3
   },
   "file_extension": ".py",
   "mimetype": "text/x-python",
   "name": "python",
   "nbconvert_exporter": "python",
   "pygments_lexer": "ipython3",
   "version": "3.12.0"
  }
 },
 "nbformat": 4,
 "nbformat_minor": 5
}
