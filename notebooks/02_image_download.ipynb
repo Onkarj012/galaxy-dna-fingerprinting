{
 "cells": [
  {
   "cell_type": "code",
   "execution_count": 4,
   "id": "21b6ecbc-1596-4038-88e6-b86d4ffe3822",
   "metadata": {},
   "outputs": [
    {
     "name": "stdout",
     "output_type": "stream",
     "text": [
      "Dataset loaded: (48664, 248)\n"
     ]
    },
    {
     "name": "stderr",
     "output_type": "stream",
     "text": [
      " 78%|██████████████████████████████████████████████████████████████████▏                  | 778/1000 [27:16<17:50,  4.82s/it]"
     ]
    },
    {
     "name": "stdout",
     "output_type": "stream",
     "text": [
      "Failed to fetch data/images/777.jpg: HTTPSConnectionPool(host='skyserver.sdss.org', port=443): Max retries exceeded with url: /dr16/SkyServerWS/ImgCutout/getjpeg?ra=229.85281372070312&dec=4.579733848571777&scale=0.2&width=128&height=128 (Caused by ConnectTimeoutError(<urllib3.connection.HTTPSConnection object at 0x152412a50>, 'Connection to skyserver.sdss.org timed out. (connect timeout=10)'))\n"
     ]
    },
    {
     "name": "stderr",
     "output_type": "stream",
     "text": [
      "100%|████████████████████████████████████████████████████████████████████████████████████| 1000/1000 [34:49<00:00,  2.09s/it]"
     ]
    },
    {
     "name": "stdout",
     "output_type": "stream",
     "text": [
      "Mapping CSV saved: data/image_mapping.csv\n"
     ]
    },
    {
     "name": "stderr",
     "output_type": "stream",
     "text": [
      "\n"
     ]
    }
   ],
   "source": [
    "# 02_image_download.ipynb\n",
    "\n",
    "# -----------------------------\n",
    "# 1️⃣ Imports\n",
    "# -----------------------------\n",
    "import os\n",
    "import pandas as pd\n",
    "import requests\n",
    "from PIL import Image\n",
    "from io import BytesIO\n",
    "from tqdm import tqdm\n",
    "\n",
    "# -----------------------------\n",
    "# 2️⃣ Paths and Config\n",
    "# -----------------------------\n",
    "CLEANED_CSV = \"merged_cleaned.csv\"   # your cleaned dataset\n",
    "IMG_DIR = \"data/images\"\n",
    "os.makedirs(IMG_DIR, exist_ok=True)\n",
    "MAPPING_CSV = \"data/image_mapping.csv\"\n",
    "\n",
    "# SDSS cutout parameters\n",
    "IMG_SIZE = 128   # pixels\n",
    "SCALE = 0.2      # arcsec/pixel\n",
    "\n",
    "# -----------------------------\n",
    "# 3️⃣ Load cleaned dataset\n",
    "# -----------------------------\n",
    "df = pd.read_csv(\"../data/merged_gz2_sdss.csv\")\n",
    "print(\"Dataset loaded:\", df.shape)\n",
    "df.head()\n",
    "\n",
    "# -----------------------------\n",
    "# 4️⃣ Function to download SDSS images\n",
    "# -----------------------------\n",
    "def fetch_sdss_image(ra, dec, filename, scale=SCALE, size=IMG_SIZE):\n",
    "    url = f\"http://skyserver.sdss.org/dr16/SkyServerWS/ImgCutout/getjpeg?ra={ra}&dec={dec}&scale={scale}&width={size}&height={size}\"\n",
    "    try:\n",
    "        response = requests.get(url, timeout=10)\n",
    "        img = Image.open(BytesIO(response.content)).convert(\"RGB\")\n",
    "        img.save(filename)\n",
    "        return True\n",
    "    except Exception as e:\n",
    "        print(f\"Failed to fetch {filename}: {e}\")\n",
    "        return False\n",
    "\n",
    "# -----------------------------\n",
    "# 5️⃣ Download loop\n",
    "# -----------------------------\n",
    "# For demonstration, you can limit to first 1000 rows (or full dataset)\n",
    "df_to_download = df.head(1000)  \n",
    "\n",
    "mapping = []\n",
    "\n",
    "for idx, row in tqdm(df_to_download.iterrows(), total=len(df_to_download)):\n",
    "    ra, dec = row['ra'], row['dec']\n",
    "    filename = os.path.join(IMG_DIR, f\"{idx}.jpg\")\n",
    "    \n",
    "    if not os.path.exists(filename):\n",
    "        success = fetch_sdss_image(ra, dec, filename)\n",
    "        if not success:\n",
    "            continue\n",
    "    \n",
    "    # store mapping info\n",
    "    mapping.append({\n",
    "        \"idx\": idx,\n",
    "        \"image_filename\": filename,\n",
    "        \"ra\": ra,\n",
    "        \"dec\": dec,\n",
    "        **{col: row[col] for col in df.columns if 't0' in col}  # morphology labels\n",
    "    })\n",
    "\n",
    "# -----------------------------\n",
    "# 6️⃣ Save mapping CSV\n",
    "# -----------------------------\n",
    "mapping_df = pd.DataFrame(mapping)\n",
    "mapping_df.to_csv(MAPPING_CSV, index=False)\n",
    "print(\"Mapping CSV saved:\", MAPPING_CSV)\n"
   ]
  },
  {
   "cell_type": "code",
   "execution_count": null,
   "id": "a0265bca-fd4c-4d2f-8d66-cd4fc8246e24",
   "metadata": {},
   "outputs": [],
   "source": []
  }
 ],
 "metadata": {
  "kernelspec": {
   "display_name": "Python [conda env:base] *",
   "language": "python",
   "name": "conda-base-py"
  },
  "language_info": {
   "codemirror_mode": {
    "name": "ipython",
    "version": 3
   },
   "file_extension": ".py",
   "mimetype": "text/x-python",
   "name": "python",
   "nbconvert_exporter": "python",
   "pygments_lexer": "ipython3",
   "version": "3.12.2"
  }
 },
 "nbformat": 4,
 "nbformat_minor": 5
}
