{
 "cells": [
  {
   "cell_type": "code",
   "execution_count": 3,
   "id": "c2286417-8bbc-4a36-bd5b-ddf7c3e252e3",
   "metadata": {},
   "outputs": [],
   "source": [
    "import pandas as pd\n",
    "from astropy.coordinates import SkyCoord\n",
    "import astropy.units as u"
   ]
  },
  {
   "cell_type": "code",
   "execution_count": 5,
   "id": "5690e1e1-ecb4-486a-9c77-1b455827879b",
   "metadata": {},
   "outputs": [
    {
     "name": "stdout",
     "output_type": "stream",
     "text": [
      "Galaxy Zoo 2: (239695, 231)\n",
      "SDSS: (500000, 17)\n",
      "\n",
      "--- GZ2 Columns ---\n",
      "Index(['dr7objid', 'ra', 'dec', 'rastring', 'decstring', 'sample', 'gz2_class',\n",
      "       'total_classifications', 'total_votes',\n",
      "       't01_smooth_or_features_a01_smooth_count',\n",
      "       't01_smooth_or_features_a01_smooth_weight',\n",
      "       't01_smooth_or_features_a01_smooth_fraction',\n",
      "       't01_smooth_or_features_a01_smooth_weighted_fraction',\n",
      "       't01_smooth_or_features_a01_smooth_debiased',\n",
      "       't01_smooth_or_features_a01_smooth_flag',\n",
      "       't01_smooth_or_features_a02_features_or_disk_count',\n",
      "       't01_smooth_or_features_a02_features_or_disk_weight',\n",
      "       't01_smooth_or_features_a02_features_or_disk_fraction',\n",
      "       't01_smooth_or_features_a02_features_or_disk_weighted_fraction',\n",
      "       't01_smooth_or_features_a02_features_or_disk_debiased'],\n",
      "      dtype='object')\n",
      "\n",
      "--- SDSS Columns ---\n",
      "Index(['objID', 'ra', 'dec', 'u', 'g', 'r', 'i', 'z', 'petroR50_r',\n",
      "       'petroR90_r', 'fracDeV_r', 'concentration_index', 'u_g_color',\n",
      "       'g_r_color', 'r_i_color', 'i_z_color', 'redshift'],\n",
      "      dtype='object')\n"
     ]
    }
   ],
   "source": [
    "gz2_path = \"../data/gz2.csv\"\n",
    "sdss_path = \"../data/sdss.csv\"\n",
    "\n",
    "gz2 = pd.read_csv(gz2_path, low_memory=False)\n",
    "sdss = pd.read_csv(sdss_path, skiprows=1, low_memory=False)\n",
    "\n",
    "print(\"Galaxy Zoo 2:\", gz2.shape)\n",
    "print(\"SDSS:\", sdss.shape)\n",
    "\n",
    "print(\"\\n--- GZ2 Columns ---\")\n",
    "print(gz2.columns[:20])  # first 20 col names\n",
    "\n",
    "print(\"\\n--- SDSS Columns ---\")\n",
    "print(sdss.columns[:20])  # first 20 col names\n"
   ]
  },
  {
   "cell_type": "code",
   "execution_count": 6,
   "id": "a0430154-9166-411c-8c00-2aff5edd17a7",
   "metadata": {},
   "outputs": [
    {
     "name": "stdout",
     "output_type": "stream",
     "text": [
      "ra     float64\n",
      "dec    float64\n",
      "dtype: object\n",
      "ra     float64\n",
      "dec    float64\n",
      "dtype: object\n"
     ]
    }
   ],
   "source": [
    "print(gz2[['ra','dec']].dtypes)\n",
    "print(sdss[['ra','dec']].dtypes)\n"
   ]
  },
  {
   "cell_type": "code",
   "execution_count": 7,
   "id": "e391f44e-5191-4e05-9526-5773d03ded12",
   "metadata": {},
   "outputs": [],
   "source": [
    "gz2 = gz2.dropna(subset=['ra','dec'])\n",
    "sdss = sdss.dropna(subset=['ra','dec'])\n"
   ]
  },
  {
   "cell_type": "code",
   "execution_count": 8,
   "id": "773b1ca5-2600-4751-9e46-c41e6afbbb14",
   "metadata": {},
   "outputs": [
    {
     "name": "stdout",
     "output_type": "stream",
     "text": [
      "Merged dataset: (48664, 248)\n"
     ]
    }
   ],
   "source": [
    "from astropy.coordinates import SkyCoord\n",
    "import astropy.units as u\n",
    "\n",
    "coords_gz2 = SkyCoord(ra=gz2['ra'].values*u.deg, dec=gz2['dec'].values*u.deg)\n",
    "coords_sdss = SkyCoord(ra=sdss['ra'].values*u.deg, dec=sdss['dec'].values*u.deg)\n",
    "\n",
    "idx, d2d, _ = coords_gz2.match_to_catalog_sky(coords_sdss)\n",
    "\n",
    "matched = d2d.arcsec < 2.0  # tolerance in arcseconds\n",
    "\n",
    "gz2_matched = gz2[matched].reset_index(drop=True)\n",
    "sdss_matched = sdss.iloc[idx[matched]].reset_index(drop=True)\n",
    "\n",
    "merged = pd.concat([gz2_matched, sdss_matched], axis=1)\n",
    "print(\"Merged dataset:\", merged.shape)\n"
   ]
  },
  {
   "cell_type": "code",
   "execution_count": 13,
   "id": "bbaa233c-0693-4381-afe3-8f4845d36022",
   "metadata": {},
   "outputs": [],
   "source": [
    "merged.to_csv(\"../data/merged_gz2_sdss.csv\", index=False)\n"
   ]
  },
  {
   "cell_type": "code",
   "execution_count": null,
   "id": "9eb5f269-7e08-4faf-8236-26ca370920c1",
   "metadata": {},
   "outputs": [],
   "source": []
  }
 ],
 "metadata": {
  "kernelspec": {
   "display_name": "Python [conda env:base] *",
   "language": "python",
   "name": "conda-base-py"
  },
  "language_info": {
   "codemirror_mode": {
    "name": "ipython",
    "version": 3
   },
   "file_extension": ".py",
   "mimetype": "text/x-python",
   "name": "python",
   "nbconvert_exporter": "python",
   "pygments_lexer": "ipython3",
   "version": "3.12.2"
  }
 },
 "nbformat": 4,
 "nbformat_minor": 5
}
